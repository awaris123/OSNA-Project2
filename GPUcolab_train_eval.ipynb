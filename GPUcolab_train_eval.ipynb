{
  "nbformat": 4,
  "nbformat_minor": 0,
  "metadata": {
    "colab": {
      "name": "GPUcolab_train_eval.ipynb",
      "provenance": [],
      "collapsed_sections": [],
      "authorship_tag": "ABX9TyPcjSJJezGHz7mR5j0LGIl4",
      "include_colab_link": true
    },
    "kernelspec": {
      "name": "python3",
      "display_name": "Python 3"
    },
    "accelerator": "GPU"
  },
  "cells": [
    {
      "cell_type": "markdown",
      "metadata": {
        "id": "view-in-github",
        "colab_type": "text"
      },
      "source": [
        "<a href=\"https://colab.research.google.com/github/awaris123/OSNA-Project2/blob/main/GPUcolab_train_eval.ipynb\" target=\"_parent\"><img src=\"https://colab.research.google.com/assets/colab-badge.svg\" alt=\"Open In Colab\"/></a>"
      ]
    },
    {
      "cell_type": "code",
      "metadata": {
        "id": "nzqnVHRi7UqL",
        "colab": {
          "base_uri": "https://localhost:8080/"
        },
        "outputId": "a098aab8-c5f0-44c6-9bfd-a13fd6f605ac"
      },
      "source": [
        "!pip3 install -U sentence-transformers #comment this out if you are running out of ram when using pretrained embeddings\n",
        "from sentence_transformers import SentenceTransformer #comment this out if you are running out of ram when using pretrained embeddings\n",
        "\n",
        "import numpy as np\n",
        "import keras\n",
        "import pandas as pd\n",
        "import pdb\n",
        "from sklearn.preprocessing import LabelEncoder\n",
        "from sklearn.model_selection import train_test_split\n",
        "import pickle\n",
        "import importlib\n",
        "\n",
        "using_xlnet=False\n",
        "if using_xlnet:\n",
        "  !pip3 install transformers\n",
        "  from xlnet import XLNet\n",
        "\n",
        "!wget \"https://raw.githubusercontent.com/awaris123/OSNA-Project2/main/data_generator.py\"\n",
        "!wget \"https://raw.githubusercontent.com/awaris123/OSNA-Project2/main/models/simple_classifier_model.py\"\n",
        "#wget xlnet if that finishes\n",
        "\n",
        "from data_generator import DataGenerator\n",
        "from simple_classifier_model import SimpleClassifier\n",
        "import simple_classifier_model\n",
        "\n",
        "from datetime import datetime\n",
        "from packaging import version\n",
        "\n",
        "import tensorflow as tf\n",
        "%load_ext tensorboard\n",
        "\n",
        "import tensorboard\n"
      ],
      "execution_count": 7,
      "outputs": [
        {
          "output_type": "stream",
          "text": [
            "Requirement already up-to-date: sentence-transformers in /usr/local/lib/python3.6/dist-packages (0.3.9)\n",
            "Requirement already satisfied, skipping upgrade: transformers<3.6.0,>=3.1.0 in /usr/local/lib/python3.6/dist-packages (from sentence-transformers) (3.5.1)\n",
            "Requirement already satisfied, skipping upgrade: scipy in /usr/local/lib/python3.6/dist-packages (from sentence-transformers) (1.4.1)\n",
            "Requirement already satisfied, skipping upgrade: tqdm in /usr/local/lib/python3.6/dist-packages (from sentence-transformers) (4.41.1)\n",
            "Requirement already satisfied, skipping upgrade: numpy in /usr/local/lib/python3.6/dist-packages (from sentence-transformers) (1.18.5)\n",
            "Requirement already satisfied, skipping upgrade: nltk in /usr/local/lib/python3.6/dist-packages (from sentence-transformers) (3.2.5)\n",
            "Requirement already satisfied, skipping upgrade: torch>=1.6.0 in /usr/local/lib/python3.6/dist-packages (from sentence-transformers) (1.7.0+cu101)\n",
            "Requirement already satisfied, skipping upgrade: scikit-learn in /usr/local/lib/python3.6/dist-packages (from sentence-transformers) (0.22.2.post1)\n",
            "Requirement already satisfied, skipping upgrade: regex!=2019.12.17 in /usr/local/lib/python3.6/dist-packages (from transformers<3.6.0,>=3.1.0->sentence-transformers) (2019.12.20)\n",
            "Requirement already satisfied, skipping upgrade: dataclasses; python_version < \"3.7\" in /usr/local/lib/python3.6/dist-packages (from transformers<3.6.0,>=3.1.0->sentence-transformers) (0.8)\n",
            "Requirement already satisfied, skipping upgrade: packaging in /usr/local/lib/python3.6/dist-packages (from transformers<3.6.0,>=3.1.0->sentence-transformers) (20.4)\n",
            "Requirement already satisfied, skipping upgrade: tokenizers==0.9.3 in /usr/local/lib/python3.6/dist-packages (from transformers<3.6.0,>=3.1.0->sentence-transformers) (0.9.3)\n",
            "Requirement already satisfied, skipping upgrade: sentencepiece==0.1.91 in /usr/local/lib/python3.6/dist-packages (from transformers<3.6.0,>=3.1.0->sentence-transformers) (0.1.91)\n",
            "Requirement already satisfied, skipping upgrade: sacremoses in /usr/local/lib/python3.6/dist-packages (from transformers<3.6.0,>=3.1.0->sentence-transformers) (0.0.43)\n",
            "Requirement already satisfied, skipping upgrade: protobuf in /usr/local/lib/python3.6/dist-packages (from transformers<3.6.0,>=3.1.0->sentence-transformers) (3.12.4)\n",
            "Requirement already satisfied, skipping upgrade: requests in /usr/local/lib/python3.6/dist-packages (from transformers<3.6.0,>=3.1.0->sentence-transformers) (2.23.0)\n",
            "Requirement already satisfied, skipping upgrade: filelock in /usr/local/lib/python3.6/dist-packages (from transformers<3.6.0,>=3.1.0->sentence-transformers) (3.0.12)\n",
            "Requirement already satisfied, skipping upgrade: six in /usr/local/lib/python3.6/dist-packages (from nltk->sentence-transformers) (1.15.0)\n",
            "Requirement already satisfied, skipping upgrade: future in /usr/local/lib/python3.6/dist-packages (from torch>=1.6.0->sentence-transformers) (0.16.0)\n",
            "Requirement already satisfied, skipping upgrade: typing-extensions in /usr/local/lib/python3.6/dist-packages (from torch>=1.6.0->sentence-transformers) (3.7.4.3)\n",
            "Requirement already satisfied, skipping upgrade: joblib>=0.11 in /usr/local/lib/python3.6/dist-packages (from scikit-learn->sentence-transformers) (0.17.0)\n",
            "Requirement already satisfied, skipping upgrade: pyparsing>=2.0.2 in /usr/local/lib/python3.6/dist-packages (from packaging->transformers<3.6.0,>=3.1.0->sentence-transformers) (2.4.7)\n",
            "Requirement already satisfied, skipping upgrade: click in /usr/local/lib/python3.6/dist-packages (from sacremoses->transformers<3.6.0,>=3.1.0->sentence-transformers) (7.1.2)\n",
            "Requirement already satisfied, skipping upgrade: setuptools in /usr/local/lib/python3.6/dist-packages (from protobuf->transformers<3.6.0,>=3.1.0->sentence-transformers) (50.3.2)\n",
            "Requirement already satisfied, skipping upgrade: chardet<4,>=3.0.2 in /usr/local/lib/python3.6/dist-packages (from requests->transformers<3.6.0,>=3.1.0->sentence-transformers) (3.0.4)\n",
            "Requirement already satisfied, skipping upgrade: urllib3!=1.25.0,!=1.25.1,<1.26,>=1.21.1 in /usr/local/lib/python3.6/dist-packages (from requests->transformers<3.6.0,>=3.1.0->sentence-transformers) (1.24.3)\n",
            "Requirement already satisfied, skipping upgrade: certifi>=2017.4.17 in /usr/local/lib/python3.6/dist-packages (from requests->transformers<3.6.0,>=3.1.0->sentence-transformers) (2020.11.8)\n",
            "Requirement already satisfied, skipping upgrade: idna<3,>=2.5 in /usr/local/lib/python3.6/dist-packages (from requests->transformers<3.6.0,>=3.1.0->sentence-transformers) (2.10)\n",
            "--2020-11-29 23:23:25--  https://raw.githubusercontent.com/awaris123/OSNA-Project2/main/data_generator.py\n",
            "Resolving raw.githubusercontent.com (raw.githubusercontent.com)... 151.101.0.133, 151.101.64.133, 151.101.128.133, ...\n",
            "Connecting to raw.githubusercontent.com (raw.githubusercontent.com)|151.101.0.133|:443... connected.\n",
            "HTTP request sent, awaiting response... 200 OK\n",
            "Length: 4785 (4.7K) [text/plain]\n",
            "Saving to: ‘data_generator.py.6’\n",
            "\n",
            "data_generator.py.6 100%[===================>]   4.67K  --.-KB/s    in 0s      \n",
            "\n",
            "2020-11-29 23:23:25 (75.6 MB/s) - ‘data_generator.py.6’ saved [4785/4785]\n",
            "\n",
            "--2020-11-29 23:23:25--  https://raw.githubusercontent.com/awaris123/OSNA-Project2/main/models/simple_classifier_model.py\n",
            "Resolving raw.githubusercontent.com (raw.githubusercontent.com)... 151.101.0.133, 151.101.64.133, 151.101.128.133, ...\n",
            "Connecting to raw.githubusercontent.com (raw.githubusercontent.com)|151.101.0.133|:443... connected.\n",
            "HTTP request sent, awaiting response... 200 OK\n",
            "Length: 1243 (1.2K) [text/plain]\n",
            "Saving to: ‘simple_classifier_model.py.6’\n",
            "\n",
            "simple_classifier_m 100%[===================>]   1.21K  --.-KB/s    in 0s      \n",
            "\n",
            "2020-11-29 23:23:25 (86.7 MB/s) - ‘simple_classifier_model.py.6’ saved [1243/1243]\n",
            "\n",
            "The tensorboard extension is already loaded. To reload it, use:\n",
            "  %reload_ext tensorboard\n"
          ],
          "name": "stdout"
        }
      ]
    },
    {
      "cell_type": "code",
      "metadata": {
        "colab": {
          "base_uri": "https://localhost:8080/"
        },
        "id": "DBoWjxtTbheW",
        "outputId": "1b8db1a2-9311-4f30-e29e-d2b09265223f"
      },
      "source": [
        "from google.colab import drive\n",
        "drive.mount('/content/drive')"
      ],
      "execution_count": 4,
      "outputs": [
        {
          "output_type": "stream",
          "text": [
            "Drive already mounted at /content/drive; to attempt to forcibly remount, call drive.mount(\"/content/drive\", force_remount=True).\n"
          ],
          "name": "stdout"
        }
      ]
    },
    {
      "cell_type": "markdown",
      "metadata": {
        "id": "cAGjlWoxp0bE"
      },
      "source": [
        "#This is the code modified from preprocessing.py to extract embeddings from BERT or even word2vec since these vectors are wasteful to recalculate on the fly. Don't run unless you want to extract and store embeddings.\n",
        "\n",
        "\n"
      ]
    },
    {
      "cell_type": "code",
      "metadata": {
        "id": "RXILmi2DSv4K"
      },
      "source": [
        "mkdir ./drive/MyDrive/joint_embeddings\n"
      ],
      "execution_count": null,
      "outputs": []
    },
    {
      "cell_type": "code",
      "metadata": {
        "id": "weVtM5ej4Iu1"
      },
      "source": [
        "df=pd.read_csv(\"https://raw.githubusercontent.com/awaris123/OSNA-Project2/main/option1-data/train.csv\")\n",
        "label_encoder = LabelEncoder()\n",
        "targets = label_encoder.fit_transform(df['label'].values)\n",
        "\n",
        "X_train, X_test, y_train, y_test = train_test_split(df[['title1_en', 'title2_en']], targets, test_size=0.2)\n",
        "df_train = pd.DataFrame()\n",
        "\n",
        "params={'lr': 0.01, 'opt': 'adam', 'model': 'SimpleClassifier', 'loss': 'crossentropy', 'batch_size': 25000}\n",
        "\n",
        "training_generator = DataGenerator(X_train, y_train, total_samples=y_train.shape[0], batch_size=params['batch_size'])\n",
        "validation_generator = DataGenerator(X_test, y_test, total_samples=y_test.shape[0], batch_size=params['batch_size'])\n",
        "all_generator = DataGenerator(df, targets, total_samples=targets.shape[0], batch_size=params['batch_size'])\n",
        "joint_embedding = np.empty((all_generator.total_samples, *all_generator.dim))\n",
        "y = np.empty((all_generator.total_samples), dtype=int)\n",
        "\n",
        "for i in range(int(all_generator.total_samples/all_generator.batch_size)):\n",
        "  #joint_embedding[i*all_generator.batch_size:(i+1)*all_generator.batch_size,:], y[i*all_generator.batch_size:(i+1)*all_generator.batch_size]=all_generator.__getitem__(i) #\n",
        "  e1, y1=all_generator.__getitem__(i) #\n",
        "\n",
        "  with open(f\"./joint_embedding_{i}\", 'wb') as f:\n",
        "    pickle.dump(e1, f)\n",
        "\n",
        "  with open(f\"./y_{i}\", 'wb') as f:\n",
        "    pickle.dump(y1, f)"
      ],
      "execution_count": null,
      "outputs": []
    },
    {
      "cell_type": "code",
      "metadata": {
        "id": "nvUJN-jLO4OP"
      },
      "source": [
        "import pickle\n",
        "path=\"./drive/MyDrive/joint_embeddings/\"\n",
        "batch_size=25000\n",
        "X_all = np.empty((batch_size*10, 1536))\n",
        "y_all = np.empty((batch_size*10))\n",
        "\n",
        "\n",
        "for i in range(10):\n",
        "  with open(f\"{path}/joint_embedding_{i}\", 'rb') as f:\n",
        "    X=pickle.load(f)\n",
        "    X_all[i*batch_size:(i+1)*batch_size,:]=X\n",
        "\n",
        "  with open(f\"{path}/y_{i}\", 'rb') as f:\n",
        "    y=pickle.load(f)\n",
        "    y_all[i*batch_size:(i+1)*batch_size]=y\n",
        "  print(i)\n",
        "\n"
      ],
      "execution_count": null,
      "outputs": []
    },
    {
      "cell_type": "code",
      "metadata": {
        "id": "DyzaQTjZRVM1"
      },
      "source": [
        "with open(\"./joint_embedding\", 'wb') as f:\n",
        "  pickle.dump(X_all, f)\n",
        "\n",
        "with open(\"./y\", 'wb') as f:\n",
        "  pickle.dump(y_all, f)"
      ],
      "execution_count": null,
      "outputs": []
    },
    {
      "cell_type": "code",
      "metadata": {
        "id": "OeN_3P-aOlA8",
        "colab": {
          "base_uri": "https://localhost:8080/"
        },
        "outputId": "a52bd834-2d50-408b-e8c4-3a888b8359e7"
      },
      "source": [
        "!cp -r joint_embedding ./drive/MyDrive/joint_embeddings/\n",
        "!cp -r y ./drive/MyDrive/joint_embeddings/"
      ],
      "execution_count": null,
      "outputs": [
        {
          "output_type": "stream",
          "text": [
            "cp: cannot stat 'joint_embedding': No such file or directory\n",
            "cp: cannot stat 'y': No such file or directory\n"
          ],
          "name": "stdout"
        }
      ]
    },
    {
      "cell_type": "code",
      "metadata": {
        "colab": {
          "base_uri": "https://localhost:8080/",
          "height": 52
        },
        "id": "3C5wzDyf96g7",
        "outputId": "0dccbe35-cb1f-46b6-83fd-897ea05c4dcd"
      },
      "source": [
        "#for xlnet\n",
        "\n",
        "'''\n",
        "training_generator = DataGenerator(X_train, y_train, total_samples=y_train.shape[0], batch_size=params['batch_size'])\n",
        "validation_generator = DataGenerator(X_test, y_test, total_samples=y_test.shape[0], batch_size=params['batch_size'])\n",
        "\n",
        "if using_xlnet:\n",
        "  xlnet1= XLNet()\n",
        "  model = xlnet1.model\n",
        "else:\n",
        "\n",
        "model.summary()\n",
        "def get_inputs(tweets, tokenizer, max_len=120):\n",
        "    \"\"\" Gets tensors from text using the tokenizer provided\"\"\"\n",
        "    inps = [tokenizer.encode_plus(t, max_length=max_len, pad_to_max_length=True, add_special_tokens=True) for t in tweets]\n",
        "    inp_tok = np.array([a['input_ids'] for a in inps])\n",
        "    ids = np.array([a['attention_mask'] for a in inps])\n",
        "    segments = np.array([a['token_type_ids'] for a in inps])\n",
        "    return inp_tok, ids, segments\n",
        "\n",
        "inp_tok, ids, segments = get_inputs(df[['title1_en', 'title2_en']], xlnet_tokenizer)\n",
        "lr_schedule = keras.optimizers.schedules.ExponentialDecay(\n",
        "    initial_learning_rate=params['lr'],\n",
        "    decay_steps=10000,\n",
        "    decay_rate=0.9)\n",
        "opt = keras.optimizers.Adam(learning_rate=params['lr'])\n",
        "\n",
        "model.compile(optimizer=opt, loss=keras.losses.CategoricalCrossentropy(), metrics=['accuracy'])#, keras.metrics.Precision(), keras.metrics.Recall()])\n",
        "\n",
        "'''\n",
        "'''\n",
        "model.fit_generator(generator=training_generator,\n",
        "                          validation_data=validation_generator,\n",
        "                          epochs=10,\n",
        "                          workers=8,\n",
        "                    use_multiprocessing=False,\n",
        "                    verbose=1)\n",
        "\n",
        "model.save(\"/content/drive/MyDrive/joint_embeddings/test/xlnet_ft_unbalanced\")\n",
        "'''"
      ],
      "execution_count": 7,
      "outputs": [
        {
          "output_type": "execute_result",
          "data": {
            "application/vnd.google.colaboratory.intrinsic+json": {
              "type": "string"
            },
            "text/plain": [
              "'\\nmodel.fit_generator(generator=training_generator,\\n                          validation_data=validation_generator,\\n                          epochs=10,\\n                          workers=8,\\n                    use_multiprocessing=False,\\n                    verbose=1)\\n\\nmodel.save(\"/content/drive/MyDrive/joint_embeddings/test/xlnet_ft_unbalanced\")\\n'"
            ]
          },
          "metadata": {
            "tags": []
          },
          "execution_count": 7
        }
      ]
    },
    {
      "cell_type": "code",
      "metadata": {
        "id": "342LR-SSQrye"
      },
      "source": [
        "del df\n",
        "del targets"
      ],
      "execution_count": null,
      "outputs": []
    },
    {
      "cell_type": "markdown",
      "metadata": {
        "id": "GcyYYeTKD16-"
      },
      "source": [
        "#To run simple classifier on sentenceBERT embeddings"
      ]
    },
    {
      "cell_type": "code",
      "metadata": {
        "id": "iRKyD7hsRX3j"
      },
      "source": [
        "#load\n",
        "import pickle\n",
        "path=\"./drive/MyDrive/joint_embeddings/\"\n",
        "\n",
        "with open(f\"{path}joint_embedding\", 'rb') as f:\n",
        "  X_all=pickle.load(f)\n",
        "\n",
        "with open(f\"{path}y\", 'rb') as f:\n",
        "  y_all=pickle.load(f)"
      ],
      "execution_count": 1,
      "outputs": []
    },
    {
      "cell_type": "code",
      "metadata": {
        "id": "pZxV6FVET32o"
      },
      "source": [
        "#train from preprocessed data\n",
        "\n",
        "params={'lr': 0.001, 'opt': 'adam', 'model': 'SimpleClassifier', 'loss': 'crossentropy', 'batch_size': 128}\n",
        "\n",
        "X_train, X_test, y_train, y_test = train_test_split(X_all, y_all, test_size=0.2)\n",
        "del X_all\n",
        "del y_all"
      ],
      "execution_count": null,
      "outputs": []
    },
    {
      "cell_type": "code",
      "metadata": {
        "id": "nkPWHBOiuO1P",
        "colab": {
          "base_uri": "https://localhost:8080/"
        },
        "outputId": "79a83334-673f-416a-adff-3f17469aa7a0"
      },
      "source": [
        "# Define the Keras TensorBoard callback. credit to: https://colab.research.google.com/github/tensorflow/tensorboard/blob/master/docs/graphs.ipynb\n",
        "!rm -rf ./logs/ \n",
        "logdir=\"logs/fit/\" + datetime.now().strftime(\"%Y%m%d-%H%M%S\")\n",
        "tensorboard_callback = keras.callbacks.TensorBoard(log_dir=logdir)\n",
        "\n",
        "training_generator = DataGenerator(X_train, y_train, total_samples=y_train.shape[0], batch_size=params['batch_size'])\n",
        "validation_generator = DataGenerator(X_test, y_test, total_samples=y_test.shape[0], batch_size=params['batch_size'])\n",
        "\n",
        "import importlib\n",
        "\n",
        "importlib.reload(simple_classifier_model)\n",
        "\n",
        "model = simple_classifier_model.SimpleClassifier(input_shape=768*2)\n",
        "model.model.summary()\n",
        "\n",
        "lr_schedule = keras.optimizers.schedules.ExponentialDecay(\n",
        "    initial_learning_rate=params['lr'],\n",
        "    decay_steps=10000,\n",
        "    decay_rate=0.9)\n",
        "opt = keras.optimizers.Adam(learning_rate=params['lr'])\n",
        "\n",
        "model.model.compile(optimizer=opt, loss=keras.losses.CategoricalCrossentropy(), metrics=['accuracy', keras.metrics.Precision(), keras.metrics.Recall()])#, ])\n",
        "model.model.fit_generator(generator=training_generator,\n",
        "                          validation_data=validation_generator,\n",
        "                          epochs=50,\n",
        "                          workers=8,\n",
        "                    use_multiprocessing=False,\n",
        "                    verbose=1, callbacks=[tensorboard_callback])\n",
        "model.model.save(\"/content/drive/MyDrive/joint_embeddings/confirm/simple\")#bert_mlp_unbalanced_1500_512_bs128_leakyrelu\")"
      ],
      "execution_count": null,
      "outputs": [
        {
          "output_type": "stream",
          "text": [
            "Model: \"sequential_1\"\n",
            "_________________________________________________________________\n",
            "Layer (type)                 Output Shape              Param #   \n",
            "=================================================================\n",
            "dense_4 (Dense)              (None, 900)               1383300   \n",
            "_________________________________________________________________\n",
            "batch_normalization_3 (Batch (None, 900)               3600      \n",
            "_________________________________________________________________\n",
            "dropout_3 (Dropout)          (None, 900)               0         \n",
            "_________________________________________________________________\n",
            "dense_5 (Dense)              (None, 250)               225250    \n",
            "_________________________________________________________________\n",
            "batch_normalization_4 (Batch (None, 250)               1000      \n",
            "_________________________________________________________________\n",
            "dropout_4 (Dropout)          (None, 250)               0         \n",
            "_________________________________________________________________\n",
            "dense_6 (Dense)              (None, 50)                12550     \n",
            "_________________________________________________________________\n",
            "batch_normalization_5 (Batch (None, 50)                200       \n",
            "_________________________________________________________________\n",
            "dropout_5 (Dropout)          (None, 50)                0         \n",
            "_________________________________________________________________\n",
            "dense_7 (Dense)              (None, 3)                 153       \n",
            "=================================================================\n",
            "Total params: 1,626,053\n",
            "Trainable params: 1,623,653\n",
            "Non-trainable params: 2,400\n",
            "_________________________________________________________________\n",
            "Epoch 1/50\n",
            "   1/1562 [..............................] - ETA: 0s - loss: 1.1424 - accuracy: 0.3984 - precision_1: 0.2667 - recall_1: 0.0625WARNING:tensorflow:From /usr/local/lib/python3.6/dist-packages/tensorflow/python/ops/summary_ops_v2.py:1277: stop (from tensorflow.python.eager.profiler) is deprecated and will be removed after 2020-07-01.\n",
            "Instructions for updating:\n",
            "use `tf.profiler.experimental.stop` instead.\n",
            "   2/1562 [..............................] - ETA: 58s - loss: 1.1720 - accuracy: 0.3555 - precision_1: 0.2941 - recall_1: 0.0781WARNING:tensorflow:Callbacks method `on_train_batch_end` is slow compared to the batch time (batch time: 0.0161s vs `on_train_batch_end` time: 0.0583s). Check your callbacks.\n",
            "1562/1562 [==============================] - 15s 9ms/step - loss: 0.5847 - accuracy: 0.7408 - precision_1: 0.7641 - recall_1: 0.6967 - val_loss: 0.4704 - val_accuracy: 0.7901 - val_precision_1: 0.7928 - val_recall_1: 0.7851\n",
            "Epoch 2/50\n",
            "1562/1562 [==============================] - 14s 9ms/step - loss: 0.4723 - accuracy: 0.7896 - precision_1: 0.7940 - recall_1: 0.7826 - val_loss: 0.4462 - val_accuracy: 0.7997 - val_precision_1: 0.8027 - val_recall_1: 0.7958\n",
            "Epoch 3/50\n",
            "1562/1562 [==============================] - 14s 9ms/step - loss: 0.4462 - accuracy: 0.8027 - precision_1: 0.8063 - recall_1: 0.7968 - val_loss: 0.4253 - val_accuracy: 0.8101 - val_precision_1: 0.8123 - val_recall_1: 0.8065\n",
            "Epoch 4/50\n",
            "1562/1562 [==============================] - 14s 9ms/step - loss: 0.4254 - accuracy: 0.8121 - precision_1: 0.8154 - recall_1: 0.8069 - val_loss: 0.4203 - val_accuracy: 0.8161 - val_precision_1: 0.8178 - val_recall_1: 0.8134\n",
            "Epoch 5/50\n",
            "1562/1562 [==============================] - 14s 9ms/step - loss: 0.4107 - accuracy: 0.8185 - precision_1: 0.8217 - recall_1: 0.8141 - val_loss: 0.4129 - val_accuracy: 0.8192 - val_precision_1: 0.8212 - val_recall_1: 0.8163\n",
            "Epoch 6/50\n",
            "1562/1562 [==============================] - 14s 9ms/step - loss: 0.3964 - accuracy: 0.8262 - precision_1: 0.8294 - recall_1: 0.8220 - val_loss: 0.4121 - val_accuracy: 0.8153 - val_precision_1: 0.8180 - val_recall_1: 0.8119\n",
            "Epoch 7/50\n",
            "1562/1562 [==============================] - 14s 9ms/step - loss: 0.3855 - accuracy: 0.8321 - precision_1: 0.8351 - recall_1: 0.8284 - val_loss: 0.4075 - val_accuracy: 0.8211 - val_precision_1: 0.8226 - val_recall_1: 0.8188\n",
            "Epoch 8/50\n",
            "1562/1562 [==============================] - 14s 9ms/step - loss: 0.3724 - accuracy: 0.8377 - precision_1: 0.8404 - recall_1: 0.8340 - val_loss: 0.4011 - val_accuracy: 0.8235 - val_precision_1: 0.8261 - val_recall_1: 0.8206\n",
            "Epoch 9/50\n",
            "1562/1562 [==============================] - 14s 9ms/step - loss: 0.3642 - accuracy: 0.8418 - precision_1: 0.8446 - recall_1: 0.8389 - val_loss: 0.3980 - val_accuracy: 0.8242 - val_precision_1: 0.8257 - val_recall_1: 0.8216\n",
            "Epoch 10/50\n",
            "1064/1562 [===================>..........] - ETA: 3s - loss: 0.3530 - accuracy: 0.8473 - precision_1: 0.8499 - recall_1: 0.8440"
          ],
          "name": "stdout"
        }
      ]
    },
    {
      "cell_type": "markdown",
      "metadata": {
        "id": "Ymp7HNN_NfqM"
      },
      "source": [
        "#Evaluate here... Do not unless it is for Kaggle Submission. Takes a bit of time"
      ]
    },
    {
      "cell_type": "code",
      "metadata": {
        "colab": {
          "base_uri": "https://localhost:8080/"
        },
        "id": "-M-rYge_1CQN",
        "outputId": "a74424ee-821b-476b-f214-4b5829a45fee"
      },
      "source": [
        "# EVALUATION\n",
        "import data_generator #import DataGenerator\n",
        "importlib.reload(data_generator)\n",
        "\n",
        "#model=keras.models.load(\"/content/drive/MyDrive/joint_embeddings/test/bert_mlp_unbalanced_1500\")\n",
        "df=pd.read_csv(\"https://raw.githubusercontent.com/awaris123/OSNA-Project2/main/option1-data/train.csv\")\n",
        "encoder = LabelEncoder()\n",
        "encoder.fit_transform(df['label'].values)\n",
        "\n",
        "df=pd.read_csv(\"/content/drive/MyDrive/joint_embeddings/test.csv\", sep=',')\n",
        "final_df=pd.DataFrame(data=None, columns=['id', 'label'])\n",
        "final_df['id'] = df['id']\n",
        "targets=np.empty((final_df.shape[0]), dtype=int)\n",
        "all_generator = data_generator.DataGenerator(df, targets, n_classes=3, total_samples=targets.shape[0], batch_size=128, pretrained_embeddings=False)\n",
        "print(int(all_generator.total_samples/all_generator.batch_size))\n",
        "for i in range(int(all_generator.total_samples/all_generator.batch_size)):\n",
        "  #joint_embedding[i*all_generator.batch_size:(i+1)*all_generator.batch_size,:], y[i*all_generator.batch_size:(i+1)*all_generator.batch_size]=all_generator.__getitem__(i) #\n",
        "  print(i, end = ' ')\n",
        "  e1, _=all_generator.__getitem__(i) #\n",
        "  targets[i*all_generator.batch_size:(i+1)*all_generator.batch_size]=np.argmax(model.model.predict(e1), axis=1)\n",
        "  print(i, end = ' ')\n",
        "\n",
        "\n",
        "#label decoder\n",
        "#final_df['label'] = encoder.inverse_transform(targets)\n",
        "\n",
        "#convert to csv\n",
        "#final_df.to_csv(\"/content/drive/MyDrive/joint_embeddings/sample_submission.csv\", index=False)"
      ],
      "execution_count": null,
      "outputs": [
        {
          "output_type": "stream",
          "text": [
            "500\n",
            "0 0 1 1 2 2 3 3 4 4 5 5 6 6 7 7 8 8 9 9 10 10 11 11 12 12 13 13 14 14 15 15 16 16 17 17 18 18 19 19 20 20 21 21 22 22 23 23 24 24 25 25 26 26 27 27 28 28 29 29 30 30 31 31 32 32 33 33 34 34 35 35 36 36 37 37 38 38 39 39 40 40 41 41 42 42 43 43 44 44 45 45 46 46 47 47 48 48 49 49 50 50 51 51 52 52 53 53 54 54 55 55 56 56 57 57 58 58 59 59 60 60 61 61 62 62 63 63 64 64 65 65 66 66 67 67 68 68 69 69 70 70 71 71 72 72 73 73 74 74 75 75 76 76 77 77 78 78 79 79 80 80 81 81 82 82 83 83 84 84 85 85 86 86 87 87 88 88 89 89 90 90 91 91 92 92 93 93 94 94 95 95 96 96 97 97 98 98 99 99 100 100 101 101 102 102 103 103 104 104 105 105 106 106 107 107 108 108 109 109 110 110 111 111 112 112 113 113 114 114 115 115 116 116 117 117 118 118 119 119 120 120 121 121 122 122 123 123 124 124 125 125 126 126 127 127 128 128 129 129 130 130 131 131 132 132 133 133 134 134 135 135 136 136 137 137 138 138 139 139 140 140 141 141 142 142 143 143 144 144 145 145 146 146 147 147 148 148 149 149 150 150 151 151 152 152 153 153 154 154 155 155 156 156 157 157 158 158 159 159 160 160 161 161 162 162 163 163 164 164 165 165 166 166 167 167 168 168 169 169 170 170 171 171 172 172 173 173 174 174 175 175 176 176 177 177 178 178 179 179 180 180 181 181 182 182 183 183 184 184 185 185 186 186 187 187 188 188 189 189 190 190 191 191 192 192 193 193 194 194 195 195 196 196 197 197 198 198 199 199 200 200 201 201 202 202 203 203 204 204 205 205 206 206 207 207 208 208 209 209 210 210 211 211 212 212 213 213 214 214 215 215 216 216 217 217 218 218 219 219 220 220 221 221 222 222 223 223 224 224 225 225 226 226 227 227 228 228 229 229 230 230 231 231 232 232 233 233 234 234 235 235 236 236 237 237 238 238 239 239 240 240 241 241 242 242 243 243 244 244 245 245 246 246 247 247 248 248 249 249 250 250 251 251 252 252 253 253 254 254 255 255 256 256 257 257 258 258 259 259 260 260 261 261 262 262 263 263 264 264 265 265 266 266 267 267 268 268 269 269 270 270 271 271 272 272 273 273 274 274 275 275 276 276 277 277 278 278 279 279 280 280 281 281 282 282 283 283 284 284 285 285 286 286 287 287 288 288 289 289 290 290 291 291 292 292 293 293 294 294 295 295 296 296 297 297 298 298 299 299 300 300 301 301 302 302 303 303 304 304 305 305 306 306 307 307 308 308 309 309 310 310 311 311 312 312 313 313 314 314 315 315 316 316 317 317 318 318 319 319 320 320 321 321 322 322 323 323 324 324 325 325 326 326 327 327 328 328 329 329 330 330 331 331 332 332 333 333 334 334 335 335 336 336 337 337 338 338 339 339 340 340 341 341 342 342 343 343 344 344 345 345 346 346 347 347 348 348 349 349 350 350 351 351 352 352 353 353 354 354 355 355 356 356 357 357 358 358 359 359 360 360 361 361 362 362 363 363 364 364 365 365 366 366 367 367 368 368 369 369 370 370 371 371 372 372 373 373 374 374 375 375 376 376 377 377 378 378 379 379 380 380 381 381 382 382 383 383 384 384 385 385 386 386 387 387 388 388 389 389 390 390 391 391 392 392 393 393 394 394 395 395 396 396 397 397 398 398 399 399 400 400 401 401 402 402 403 403 404 404 405 405 406 406 407 407 408 408 409 409 410 410 411 411 412 412 413 413 414 414 415 415 416 416 417 417 418 418 419 419 420 420 421 421 422 422 423 423 424 424 425 425 426 426 427 427 428 428 429 429 430 430 431 431 432 432 433 433 434 434 435 435 436 436 437 437 438 438 439 439 440 440 441 441 442 442 443 443 444 444 445 445 446 446 447 447 448 448 449 449 450 450 451 451 452 452 453 453 454 454 455 455 456 456 457 457 458 458 459 459 460 460 461 461 462 462 463 463 464 464 465 465 466 466 467 467 468 468 469 469 470 470 471 471 472 472 473 473 474 474 475 475 476 476 477 477 478 478 479 479 480 480 481 481 482 482 483 483 484 484 485 485 486 486 487 487 488 488 489 489 490 490 491 491 492 492 493 493 494 494 495 495 496 496 497 497 498 498 499 499 "
          ],
          "name": "stdout"
        }
      ]
    },
    {
      "cell_type": "code",
      "metadata": {
        "id": "sVSRTmWr-A6_"
      },
      "source": [
        "len([i for i in targets if i > 2])\n",
        "le_name_mapping = dict(zip(encoder.transform(encoder.classes_), encoder.classes_))\n",
        "le_name_mapping\n",
        "final_df['label']=[le_name_mapping.get(i, 'unrelated') for i in targets]\n",
        "\n",
        "#label decoder\n",
        "\n",
        "#convert to csv\n",
        "final_df.to_csv(\"/content/drive/MyDrive/joint_embeddings/sample_submission.csv\", index=False)"
      ],
      "execution_count": null,
      "outputs": []
    },
    {
      "cell_type": "markdown",
      "metadata": {
        "id": "paVgnIabKvcS"
      },
      "source": [
        "# Cute Graphs and Stuff via Tensorboard"
      ]
    },
    {
      "cell_type": "code",
      "metadata": {
        "id": "th4sG0OsJciE"
      },
      "source": [
        "%tensorboard --logdir logs"
      ],
      "execution_count": null,
      "outputs": []
    }
  ]
}